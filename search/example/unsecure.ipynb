{
 "cells": [
  {
   "cell_type": "code",
   "execution_count": 1,
   "id": "9be909a0-456e-4360-8b25-e02e658e750c",
   "metadata": {},
   "outputs": [
    {
     "name": "stdout",
     "output_type": "stream",
     "text": [
      "env: TOKENIZERS_PARALLELISM=false\n"
     ]
    }
   ],
   "source": [
    "%env TOKENIZERS_PARALLELISM=false"
   ]
  },
  {
   "cell_type": "code",
   "execution_count": 22,
   "id": "9f9748b0-7049-4d96-bc01-8771bf3571b7",
   "metadata": {},
   "outputs": [],
   "source": [
    "import itertools\n",
    "import math\n",
    "import numpy\n",
    "\n",
    "from datasets import load_dataset\n",
    "from sentence_transformers import SentenceTransformer\n",
    "from sklearn.cluster import KMeans"
   ]
  },
  {
   "cell_type": "code",
   "execution_count": 23,
   "id": "c5b0f2fc-e44d-4d5c-a141-45852a1f9918",
   "metadata": {},
   "outputs": [],
   "source": [
    "EMBEDDING_SIZE = 384"
   ]
  },
  {
   "cell_type": "code",
   "execution_count": 24,
   "id": "b86f65ca-ac7c-4a0a-a6f4-32ceaa367053",
   "metadata": {},
   "outputs": [
    {
     "data": {
      "text/plain": [
       "100"
      ]
     },
     "execution_count": 24,
     "metadata": {},
     "output_type": "execute_result"
    }
   ],
   "source": [
    "dataset = load_dataset(\"imdb\")\n",
    "dataset = dataset[\"unsupervised\"][:100][\"text\"]\n",
    "\n",
    "len(dataset)"
   ]
  },
  {
   "cell_type": "code",
   "execution_count": 25,
   "id": "44ba4a05-3d9b-4c5f-a0e9-3039c0df5edb",
   "metadata": {},
   "outputs": [
    {
     "data": {
      "text/plain": [
       "(100, 384)"
      ]
     },
     "execution_count": 25,
     "metadata": {},
     "output_type": "execute_result"
    }
   ],
   "source": [
    "sentence_transformer = SentenceTransformer(\"all-MiniLM-L6-v2\")\n",
    "embedded = sentence_transformer.encode(dataset)\n",
    "\n",
    "embedded.shape"
   ]
  },
  {
   "cell_type": "code",
   "execution_count": 26,
   "id": "02a5e070-5585-4514-95a7-4b5fb697e70d",
   "metadata": {},
   "outputs": [
    {
     "data": {
      "text/plain": [
       "(10, 384)"
      ]
     },
     "execution_count": 26,
     "metadata": {},
     "output_type": "execute_result"
    }
   ],
   "source": [
    "n_clusters = math.ceil(math.sqrt(len(embedded)))\n",
    "index = KMeans(n_clusters=n_clusters, n_init=\"auto\").fit(embedded)\n",
    "\n",
    "centroids = index.cluster_centers_\n",
    "centroids.shape"
   ]
  },
  {
   "cell_type": "code",
   "execution_count": 146,
   "id": "d6b08cc3-ce21-48fc-8381-99bfbdc5d645",
   "metadata": {},
   "outputs": [
    {
     "data": {
      "text/plain": [
       "[6, 8, 11, 7, 20, 14, 16, 6, 9, 3]"
      ]
     },
     "execution_count": 146,
     "metadata": {},
     "output_type": "execute_result"
    }
   ],
   "source": [
    "matrix = [[] for _ in range(n_clusters)]\n",
    "\n",
    "for cluster, embedding in zip(index.labels_.tolist(), embedded.tolist()):\n",
    "    matrix[cluster].append(embedding)\n",
    "\n",
    "filler = numpy.ones(EMBEDDING_SIZE) * -10_000\n",
    "max_size = max([len(val) for val in matrix])\n",
    "\n",
    "[len(col) for col in matrix]"
   ]
  },
  {
   "cell_type": "code",
   "execution_count": 147,
   "id": "1b19f2db-a520-4e8d-9147-812db5ae2a25",
   "metadata": {},
   "outputs": [
    {
     "data": {
      "text/plain": [
       "(10, 20, 384)"
      ]
     },
     "execution_count": 147,
     "metadata": {},
     "output_type": "execute_result"
    }
   ],
   "source": [
    "for cluster, embedding in enumerate(matrix):\n",
    "    cluster_size = len(embedding)\n",
    "\n",
    "    matrix[cluster].extend([filler] * (max_size - cluster_size))\n",
    "\n",
    "matrix = numpy.array(matrix)\n",
    "matrix.shape"
   ]
  },
  {
   "cell_type": "code",
   "execution_count": 148,
   "id": "a4f3aa76-4d3e-440f-9e78-2acab113cf44",
   "metadata": {},
   "outputs": [
    {
     "data": {
      "text/plain": [
       "(384,)"
      ]
     },
     "execution_count": 148,
     "metadata": {},
     "output_type": "execute_result"
    }
   ],
   "source": [
    "query = \"sci-fi\"\n",
    "query = sentence_transformer.encode(query)\n",
    "\n",
    "query.shape"
   ]
  },
  {
   "cell_type": "code",
   "execution_count": 149,
   "id": "17c04202-a71d-4c5a-85f2-888010187f86",
   "metadata": {},
   "outputs": [
    {
     "data": {
      "text/plain": [
       "array([0., 0., 0., 1., 0., 0., 0., 0., 0., 0.])"
      ]
     },
     "execution_count": 149,
     "metadata": {},
     "output_type": "execute_result"
    }
   ],
   "source": [
    "cluster = numpy.argmax(centroids @ query)\n",
    "\n",
    "vector = numpy.zeros(n_clusters)\n",
    "vector[cluster] = 1\n",
    "\n",
    "vector"
   ]
  },
  {
   "cell_type": "code",
   "execution_count": 150,
   "id": "bb78ea61-390c-41fd-94bf-f395c210207b",
   "metadata": {},
   "outputs": [
    {
     "data": {
      "text/plain": [
       "(20, 384)"
      ]
     },
     "execution_count": 150,
     "metadata": {},
     "output_type": "execute_result"
    }
   ],
   "source": [
    "result = vector @ matrix.reshape(n_clusters, max_size * EMBEDDING_SIZE)\n",
    "result = result.reshape(max_size, EMBEDDING_SIZE)\n",
    "\n",
    "result.shape"
   ]
  },
  {
   "cell_type": "code",
   "execution_count": 151,
   "id": "3d81573b-079c-4fc4-bfc9-0b4cbd725ad4",
   "metadata": {},
   "outputs": [
    {
     "data": {
      "text/plain": [
       "array([ 3.07303688e-01,  2.42736120e-01,  2.07748113e-01,  2.95851877e-01,\n",
       "        2.98658304e-01,  1.79303235e-01,  2.83564630e-01, -3.36159450e+03,\n",
       "       -3.36159450e+03, -3.36159450e+03, -3.36159450e+03, -3.36159450e+03,\n",
       "       -3.36159450e+03, -3.36159450e+03, -3.36159450e+03, -3.36159450e+03,\n",
       "       -3.36159450e+03, -3.36159450e+03, -3.36159450e+03, -3.36159450e+03])"
      ]
     },
     "execution_count": 151,
     "metadata": {},
     "output_type": "execute_result"
    }
   ],
   "source": [
    "query @ result.T"
   ]
  },
  {
   "cell_type": "code",
   "execution_count": null,
   "id": "70ccd94f-6b18-4be4-a83e-4bb1d728eb88",
   "metadata": {},
   "outputs": [],
   "source": []
  }
 ],
 "metadata": {
  "kernelspec": {
   "display_name": "Python 3 (ipykernel)",
   "language": "python",
   "name": "python3"
  },
  "language_info": {
   "codemirror_mode": {
    "name": "ipython",
    "version": 3
   },
   "file_extension": ".py",
   "mimetype": "text/x-python",
   "name": "python",
   "nbconvert_exporter": "python",
   "pygments_lexer": "ipython3",
   "version": "3.9.18"
  }
 },
 "nbformat": 4,
 "nbformat_minor": 5
}
