{
 "cells": [
  {
   "cell_type": "code",
   "execution_count": null,
   "id": "522fc6ae-5282-4bc1-a367-52f1bdbd0622",
   "metadata": {},
   "outputs": [],
   "source": [
    "import numpy\n",
    "import tenseal"
   ]
  },
  {
   "cell_type": "markdown",
   "id": "c7885def-6719-4b17-8854-c64ce1083fc2",
   "metadata": {},
   "source": [
    "### ENCRIPTION CONTEXT"
   ]
  },
  {
   "cell_type": "code",
   "execution_count": null,
   "id": "4522f5a4-0acb-41d4-9d03-4fa36d95d5c1",
   "metadata": {},
   "outputs": [],
   "source": [
    "context = tenseal.context(\n",
    "    tenseal.SCHEME_TYPE.CKKS,\n",
    "    poly_modulus_degree=8192,\n",
    "    coeff_mod_bit_sizes=[60, 40, 40, 60],\n",
    ")\n",
    "\n",
    "context.generate_galois_keys()\n",
    "context.global_scale = 2**40"
   ]
  },
  {
   "cell_type": "markdown",
   "id": "529f68f7-e33c-4389-a2a8-e0e0e89c7947",
   "metadata": {},
   "source": [
    "### CIPHER"
   ]
  },
  {
   "cell_type": "code",
   "execution_count": null,
   "id": "df7d1026-5d6c-4f82-b1e7-c4694afaa704",
   "metadata": {
    "scrolled": true
   },
   "outputs": [],
   "source": [
    "vector_1 = tenseal.ckks_vector(context, [1, 2, 3])\n",
    "\n",
    "vector_1.serialize()"
   ]
  },
  {
   "cell_type": "code",
   "execution_count": null,
   "id": "099761f1-e74e-46a9-9410-391177012e78",
   "metadata": {
    "scrolled": true
   },
   "outputs": [],
   "source": [
    "vector_2 = tenseal.ckks_vector(context, [0, 1, 0])\n",
    "\n",
    "vector_2.serialize()"
   ]
  },
  {
   "cell_type": "markdown",
   "id": "e6f94f07-6169-4173-9ec2-96f3925dd9f1",
   "metadata": {},
   "source": [
    "### MATH IN CIPHER"
   ]
  },
  {
   "cell_type": "code",
   "execution_count": null,
   "id": "d5359484-cf69-4eda-a407-b4f81fd08b25",
   "metadata": {},
   "outputs": [],
   "source": [
    "numpy.array([1, 2, 3]) @ numpy.array([0, 1, 0])"
   ]
  },
  {
   "cell_type": "code",
   "execution_count": null,
   "id": "fbfc03d5-05f6-4c3d-bc01-fc44c6eed181",
   "metadata": {},
   "outputs": [],
   "source": [
    "vector_1.dot(vector_2).decrypt()"
   ]
  },
  {
   "cell_type": "code",
   "execution_count": null,
   "id": "93ba1337-1c02-4542-b2f4-f82fd5a75b32",
   "metadata": {},
   "outputs": [],
   "source": []
  }
 ],
 "metadata": {
  "kernelspec": {
   "display_name": "Python 3 (ipykernel)",
   "language": "python",
   "name": "python3"
  },
  "language_info": {
   "codemirror_mode": {
    "name": "ipython",
    "version": 3
   },
   "file_extension": ".py",
   "mimetype": "text/x-python",
   "name": "python",
   "nbconvert_exporter": "python",
   "pygments_lexer": "ipython3",
   "version": "3.9.18"
  }
 },
 "nbformat": 4,
 "nbformat_minor": 5
}
