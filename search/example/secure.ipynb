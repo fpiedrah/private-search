{
 "cells": [
  {
   "cell_type": "code",
   "execution_count": 1,
   "id": "9be909a0-456e-4360-8b25-e02e658e750c",
   "metadata": {},
   "outputs": [
    {
     "name": "stdout",
     "output_type": "stream",
     "text": [
      "env: TOKENIZERS_PARALLELISM=false\n"
     ]
    }
   ],
   "source": [
    "%env TOKENIZERS_PARALLELISM=false"
   ]
  },
  {
   "cell_type": "code",
   "execution_count": 2,
   "id": "9f9748b0-7049-4d96-bc01-8771bf3571b7",
   "metadata": {},
   "outputs": [],
   "source": [
    "import itertools\n",
    "import math\n",
    "import numpy\n",
    "import tenseal\n",
    "\n",
    "from datasets import load_dataset\n",
    "from sentence_transformers import SentenceTransformer\n",
    "from sklearn.cluster import KMeans"
   ]
  },
  {
   "cell_type": "code",
   "execution_count": 3,
   "id": "c5b0f2fc-e44d-4d5c-a141-45852a1f9918",
   "metadata": {},
   "outputs": [],
   "source": [
    "EMBEDDING_SIZE = 384"
   ]
  },
  {
   "cell_type": "code",
   "execution_count": 4,
   "id": "e3210fdd-7743-47d8-a8a4-8965544708ed",
   "metadata": {},
   "outputs": [],
   "source": [
    "context = tenseal.context(\n",
    "    tenseal.SCHEME_TYPE.CKKS,\n",
    "    poly_modulus_degree=8192,\n",
    "    coeff_mod_bit_sizes=[60, 40, 40, 60]\n",
    ")\n",
    "\n",
    "context.generate_galois_keys()\n",
    "context.global_scale = 2**40"
   ]
  },
  {
   "cell_type": "code",
   "execution_count": 5,
   "id": "b86f65ca-ac7c-4a0a-a6f4-32ceaa367053",
   "metadata": {},
   "outputs": [
    {
     "data": {
      "text/plain": [
       "100"
      ]
     },
     "execution_count": 5,
     "metadata": {},
     "output_type": "execute_result"
    }
   ],
   "source": [
    "dataset = load_dataset(\"imdb\")\n",
    "dataset = dataset[\"unsupervised\"][:100][\"text\"]\n",
    "\n",
    "len(dataset)"
   ]
  },
  {
   "cell_type": "code",
   "execution_count": 6,
   "id": "44ba4a05-3d9b-4c5f-a0e9-3039c0df5edb",
   "metadata": {},
   "outputs": [
    {
     "data": {
      "text/plain": [
       "(100, 384)"
      ]
     },
     "execution_count": 6,
     "metadata": {},
     "output_type": "execute_result"
    }
   ],
   "source": [
    "sentence_transformer = SentenceTransformer(\"all-MiniLM-L6-v2\")\n",
    "embedded = sentence_transformer.encode(dataset)\n",
    "\n",
    "embedded.shape"
   ]
  },
  {
   "cell_type": "code",
   "execution_count": 7,
   "id": "02a5e070-5585-4514-95a7-4b5fb697e70d",
   "metadata": {},
   "outputs": [
    {
     "data": {
      "text/plain": [
       "(10, 384)"
      ]
     },
     "execution_count": 7,
     "metadata": {},
     "output_type": "execute_result"
    }
   ],
   "source": [
    "n_clusters = math.ceil(math.sqrt(len(embedded)))\n",
    "index = KMeans(n_clusters=n_clusters, n_init=\"auto\").fit(embedded)\n",
    "\n",
    "centroids = index.cluster_centers_\n",
    "centroids.shape"
   ]
  },
  {
   "cell_type": "code",
   "execution_count": 8,
   "id": "d6b08cc3-ce21-48fc-8381-99bfbdc5d645",
   "metadata": {},
   "outputs": [
    {
     "data": {
      "text/plain": [
       "[6, 19, 11, 14, 14, 9, 4, 3, 3, 17]"
      ]
     },
     "execution_count": 8,
     "metadata": {},
     "output_type": "execute_result"
    }
   ],
   "source": [
    "matrix = [[] for _ in range(n_clusters)]\n",
    "\n",
    "for cluster, embedding in zip(index.labels_.tolist(), embedded.tolist()):\n",
    "    matrix[cluster].append(embedding)\n",
    "\n",
    "filler = numpy.ones(EMBEDDING_SIZE) * 0\n",
    "max_size = max([len(val) for val in matrix])\n",
    "\n",
    "[len(col) for col in matrix]"
   ]
  },
  {
   "cell_type": "code",
   "execution_count": 9,
   "id": "1b19f2db-a520-4e8d-9147-812db5ae2a25",
   "metadata": {},
   "outputs": [
    {
     "data": {
      "text/plain": [
       "(10, 19, 384)"
      ]
     },
     "execution_count": 9,
     "metadata": {},
     "output_type": "execute_result"
    }
   ],
   "source": [
    "for cluster, embedding in enumerate(matrix):\n",
    "    cluster_size = len(embedding)\n",
    "\n",
    "    matrix[cluster].extend([filler] * (max_size - cluster_size))\n",
    "\n",
    "matrix = numpy.array(matrix)\n",
    "matrix.shape"
   ]
  },
  {
   "cell_type": "code",
   "execution_count": 10,
   "id": "a4f3aa76-4d3e-440f-9e78-2acab113cf44",
   "metadata": {},
   "outputs": [
    {
     "data": {
      "text/plain": [
       "(384,)"
      ]
     },
     "execution_count": 10,
     "metadata": {},
     "output_type": "execute_result"
    }
   ],
   "source": [
    "query = \"sci-fi\"\n",
    "query = sentence_transformer.encode(query)\n",
    "\n",
    "query.shape"
   ]
  },
  {
   "cell_type": "code",
   "execution_count": 11,
   "id": "17c04202-a71d-4c5a-85f2-888010187f86",
   "metadata": {},
   "outputs": [
    {
     "data": {
      "text/plain": [
       "<tenseal.tensors.ckksvector.CKKSVector at 0x10622fcd0>"
      ]
     },
     "execution_count": 11,
     "metadata": {},
     "output_type": "execute_result"
    }
   ],
   "source": [
    "cluster = numpy.argmax(centroids @ query)\n",
    "\n",
    "vector = numpy.zeros(n_clusters)\n",
    "vector[cluster] = 1\n",
    "\n",
    "secure = tenseal.ckks_vector(context, vector.tolist())\n",
    "secure"
   ]
  },
  {
   "cell_type": "code",
   "execution_count": 12,
   "id": "cf066abd-29e7-4655-b7ae-d86eb14a881a",
   "metadata": {
    "scrolled": true
   },
   "outputs": [
    {
     "data": {
      "text/plain": [
       "<tenseal.tensors.ckksvector.CKKSVector at 0x1061d8850>"
      ]
     },
     "execution_count": 12,
     "metadata": {},
     "output_type": "execute_result"
    }
   ],
   "source": [
    "result = secure.matmul(\n",
    "    matrix.reshape(n_clusters, max_size * EMBEDDING_SIZE).tolist()\n",
    ")\n",
    "\n",
    "result"
   ]
  },
  {
   "cell_type": "code",
   "execution_count": 13,
   "id": "bb78ea61-390c-41fd-94bf-f395c210207b",
   "metadata": {},
   "outputs": [
    {
     "data": {
      "text/plain": [
       "(19, 384)"
      ]
     },
     "execution_count": 13,
     "metadata": {},
     "output_type": "execute_result"
    }
   ],
   "source": [
    "result = result.decrypt()\n",
    "result = numpy.array(result).reshape(max_size, EMBEDDING_SIZE)\n",
    "\n",
    "result.shape"
   ]
  },
  {
   "cell_type": "code",
   "execution_count": 14,
   "id": "3d81573b-079c-4fc4-bfc9-0b4cbd725ad4",
   "metadata": {},
   "outputs": [
    {
     "data": {
      "text/plain": [
       "array([ 2.38827589e-01,  2.06322503e-01,  2.33940425e-01,  2.47272666e-01,\n",
       "        1.44581811e-01,  2.88038064e-01, -1.01220650e-09,  1.66964467e-09,\n",
       "       -6.86774740e-10,  1.08107844e-09,  1.01582327e-10,  0.00000000e+00,\n",
       "        0.00000000e+00,  0.00000000e+00,  0.00000000e+00,  0.00000000e+00,\n",
       "        0.00000000e+00,  0.00000000e+00,  0.00000000e+00])"
      ]
     },
     "execution_count": 14,
     "metadata": {},
     "output_type": "execute_result"
    }
   ],
   "source": [
    "query @ result.T"
   ]
  },
  {
   "cell_type": "code",
   "execution_count": null,
   "id": "70ccd94f-6b18-4be4-a83e-4bb1d728eb88",
   "metadata": {},
   "outputs": [],
   "source": []
  }
 ],
 "metadata": {
  "kernelspec": {
   "display_name": "Python 3 (ipykernel)",
   "language": "python",
   "name": "python3"
  },
  "language_info": {
   "codemirror_mode": {
    "name": "ipython",
    "version": 3
   },
   "file_extension": ".py",
   "mimetype": "text/x-python",
   "name": "python",
   "nbconvert_exporter": "python",
   "pygments_lexer": "ipython3",
   "version": "3.9.18"
  }
 },
 "nbformat": 4,
 "nbformat_minor": 5
}
