{
 "cells": [
  {
   "cell_type": "code",
   "execution_count": null,
   "id": "9be909a0-456e-4360-8b25-e02e658e750c",
   "metadata": {},
   "outputs": [],
   "source": [
    "%env TOKENIZERS_PARALLELISM=false"
   ]
  },
  {
   "cell_type": "code",
   "execution_count": null,
   "id": "9f9748b0-7049-4d96-bc01-8771bf3571b7",
   "metadata": {},
   "outputs": [],
   "source": [
    "import math\n",
    "import numpy\n",
    "import tenseal\n",
    "\n",
    "from datasets import load_dataset\n",
    "from sentence_transformers import SentenceTransformer\n",
    "from sklearn.cluster import KMeans"
   ]
  },
  {
   "cell_type": "code",
   "execution_count": null,
   "id": "c5b0f2fc-e44d-4d5c-a141-45852a1f9918",
   "metadata": {},
   "outputs": [],
   "source": [
    "EMBEDDING_SIZE = 384"
   ]
  },
  {
   "cell_type": "markdown",
   "id": "5cbfda5d-993d-4e64-905b-490392cfd0cb",
   "metadata": {},
   "source": [
    "### SETUP ENCRYPTION CONTEXT"
   ]
  },
  {
   "cell_type": "code",
   "execution_count": null,
   "id": "e3210fdd-7743-47d8-a8a4-8965544708ed",
   "metadata": {},
   "outputs": [],
   "source": [
    "context = tenseal.context(\n",
    "    tenseal.SCHEME_TYPE.CKKS,\n",
    "    poly_modulus_degree=8192,\n",
    "    coeff_mod_bit_sizes=[60, 40, 40, 60],\n",
    ")\n",
    "\n",
    "context.generate_galois_keys()\n",
    "context.global_scale = 2**40"
   ]
  },
  {
   "cell_type": "markdown",
   "id": "bd8ffbaf-70eb-4013-a24c-9867026dd76f",
   "metadata": {},
   "source": [
    "### EMBEDD DATASET"
   ]
  },
  {
   "cell_type": "code",
   "execution_count": null,
   "id": "b86f65ca-ac7c-4a0a-a6f4-32ceaa367053",
   "metadata": {},
   "outputs": [],
   "source": [
    "dataset = load_dataset(\"imdb\")\n",
    "dataset = dataset[\"unsupervised\"][:100][\"text\"]\n",
    "\n",
    "len(dataset)"
   ]
  },
  {
   "cell_type": "code",
   "execution_count": null,
   "id": "44ba4a05-3d9b-4c5f-a0e9-3039c0df5edb",
   "metadata": {},
   "outputs": [],
   "source": [
    "sentence_transformer = SentenceTransformer(\"all-MiniLM-L6-v2\")\n",
    "embedded = sentence_transformer.encode(dataset)\n",
    "\n",
    "embedded.shape"
   ]
  },
  {
   "cell_type": "markdown",
   "id": "e7c298c1-3e9d-4ccd-87d4-4f8af8df131c",
   "metadata": {},
   "source": [
    "### CLUSTERIZE"
   ]
  },
  {
   "cell_type": "code",
   "execution_count": null,
   "id": "02a5e070-5585-4514-95a7-4b5fb697e70d",
   "metadata": {},
   "outputs": [],
   "source": [
    "# SERVER\n",
    "n_clusters = math.ceil(math.sqrt(len(embedded)))\n",
    "index = KMeans(n_clusters=n_clusters, n_init=\"auto\").fit(embedded)"
   ]
  },
  {
   "cell_type": "code",
   "execution_count": null,
   "id": "7b8226a6-3044-494c-bb3c-2d516a46df33",
   "metadata": {},
   "outputs": [],
   "source": [
    "# SEND TO CLIENT\n",
    "centroids = index.cluster_centers_\n",
    "centroids.shape"
   ]
  },
  {
   "cell_type": "markdown",
   "id": "d3ceb56f-53f7-4592-afce-a538815f6ef7",
   "metadata": {},
   "source": [
    "### CREATE MATRIX"
   ]
  },
  {
   "cell_type": "code",
   "execution_count": null,
   "id": "d6b08cc3-ce21-48fc-8381-99bfbdc5d645",
   "metadata": {},
   "outputs": [],
   "source": [
    "# SERVER\n",
    "matrix = [[] for _ in range(n_clusters)]\n",
    "\n",
    "for cluster, embedding in zip(index.labels_.tolist(), embedded.tolist()):\n",
    "    matrix[cluster].append(embedding)\n",
    "\n",
    "filler = numpy.ones(EMBEDDING_SIZE) * 0\n",
    "max_size = max([len(val) for val in matrix])\n",
    "\n",
    "[len(col) for col in matrix]"
   ]
  },
  {
   "cell_type": "code",
   "execution_count": null,
   "id": "1b19f2db-a520-4e8d-9147-812db5ae2a25",
   "metadata": {},
   "outputs": [],
   "source": [
    "# SERVER\n",
    "for cluster, embedding in enumerate(matrix):\n",
    "    cluster_size = len(embedding)\n",
    "\n",
    "    matrix[cluster].extend([filler] * (max_size - cluster_size))\n",
    "\n",
    "matrix = numpy.array(matrix)\n",
    "matrix.shape"
   ]
  },
  {
   "cell_type": "markdown",
   "id": "1b610a7e-280d-4365-8e86-ee11ee8bd62b",
   "metadata": {},
   "source": [
    "### QUERY"
   ]
  },
  {
   "cell_type": "code",
   "execution_count": null,
   "id": "a4f3aa76-4d3e-440f-9e78-2acab113cf44",
   "metadata": {},
   "outputs": [],
   "source": [
    "query = \"sci-fi\"\n",
    "query = sentence_transformer.encode(query)\n",
    "\n",
    "query.shape"
   ]
  },
  {
   "cell_type": "code",
   "execution_count": null,
   "id": "17c04202-a71d-4c5a-85f2-888010187f86",
   "metadata": {},
   "outputs": [],
   "source": [
    "# CLIENT\n",
    "cluster = numpy.argmax(centroids @ query)\n",
    "\n",
    "vector = numpy.zeros(n_clusters)\n",
    "vector[cluster] = 1\n",
    "\n",
    "secure = tenseal.ckks_vector(context, vector.tolist())\n",
    "secure"
   ]
  },
  {
   "cell_type": "code",
   "execution_count": null,
   "id": "cf066abd-29e7-4655-b7ae-d86eb14a881a",
   "metadata": {
    "scrolled": true
   },
   "outputs": [],
   "source": [
    "# SERVER\n",
    "result = secure.matmul(matrix.reshape(n_clusters, max_size * EMBEDDING_SIZE).tolist())\n",
    "\n",
    "result"
   ]
  },
  {
   "cell_type": "code",
   "execution_count": null,
   "id": "97b52f6f-718b-41eb-9a70-16b5b35f8e1f",
   "metadata": {},
   "outputs": [],
   "source": [
    "# CLIENT\n",
    "result = result.decrypt()\n",
    "result = numpy.array(result).reshape(max_size, EMBEDDING_SIZE)\n",
    "\n",
    "result.shape"
   ]
  },
  {
   "cell_type": "code",
   "execution_count": null,
   "id": "3d81573b-079c-4fc4-bfc9-0b4cbd725ad4",
   "metadata": {},
   "outputs": [],
   "source": [
    "query @ result.T"
   ]
  },
  {
   "cell_type": "code",
   "execution_count": null,
   "id": "70ccd94f-6b18-4be4-a83e-4bb1d728eb88",
   "metadata": {},
   "outputs": [],
   "source": []
  }
 ],
 "metadata": {
  "kernelspec": {
   "display_name": "Python 3 (ipykernel)",
   "language": "python",
   "name": "python3"
  },
  "language_info": {
   "codemirror_mode": {
    "name": "ipython",
    "version": 3
   },
   "file_extension": ".py",
   "mimetype": "text/x-python",
   "name": "python",
   "nbconvert_exporter": "python",
   "pygments_lexer": "ipython3",
   "version": "3.9.18"
  }
 },
 "nbformat": 4,
 "nbformat_minor": 5
}
