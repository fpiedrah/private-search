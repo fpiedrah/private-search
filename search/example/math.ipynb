{
 "cells": [
  {
   "cell_type": "code",
   "execution_count": null,
   "id": "a1f61dff-f3dc-4f65-b68d-87d336b8507b",
   "metadata": {},
   "outputs": [],
   "source": [
    "import numpy"
   ]
  },
  {
   "cell_type": "markdown",
   "id": "42e7f571-0121-422e-b1bd-d01622a2c941",
   "metadata": {},
   "source": [
    "### DOT PRODUCT SIMILARITY"
   ]
  },
  {
   "cell_type": "code",
   "execution_count": null,
   "id": "bd59e229-c1f4-4f7e-a17f-21fd6cd64f5f",
   "metadata": {},
   "outputs": [],
   "source": [
    "vec_1 = numpy.array([2, 2])\n",
    "vec_2 = numpy.array([3, 3])\n",
    "vec_3 = numpy.array([-4, -4])"
   ]
  },
  {
   "cell_type": "code",
   "execution_count": null,
   "id": "58a1a153-0f6d-475f-8915-135b7a0b1bd9",
   "metadata": {},
   "outputs": [],
   "source": [
    "vec_1 @ vec_2"
   ]
  },
  {
   "cell_type": "code",
   "execution_count": null,
   "id": "328c1f03-6c7b-4fea-a08a-33e28a1ca4da",
   "metadata": {},
   "outputs": [],
   "source": [
    "vec_1 @ vec_3"
   ]
  },
  {
   "cell_type": "markdown",
   "id": "181e7e61-0926-4afa-9673-9e38bcc3b95c",
   "metadata": {},
   "source": [
    "### SELECTING A COLUMN"
   ]
  },
  {
   "cell_type": "code",
   "execution_count": null,
   "id": "b5742d05-221b-48a8-be84-0cf8929d9d58",
   "metadata": {},
   "outputs": [],
   "source": [
    "a = numpy.array(\n",
    "    [\n",
    "        0,\n",
    "        0,\n",
    "        1,\n",
    "        0,\n",
    "    ]\n",
    ")"
   ]
  },
  {
   "cell_type": "code",
   "execution_count": null,
   "id": "6023e876-5c9c-440a-89da-8072517b6ac4",
   "metadata": {},
   "outputs": [],
   "source": [
    "b = numpy.random.randint(10, size=(10, 4))\n",
    "b"
   ]
  },
  {
   "cell_type": "code",
   "execution_count": null,
   "id": "83c0eb9b-930e-4050-907f-f364310da781",
   "metadata": {},
   "outputs": [],
   "source": [
    "a @ b.T"
   ]
  },
  {
   "cell_type": "code",
   "execution_count": null,
   "id": "1ee9b86d-3ac9-4d4d-bd3d-2808c74e36ce",
   "metadata": {},
   "outputs": [],
   "source": []
  }
 ],
 "metadata": {
  "kernelspec": {
   "display_name": "Python 3 (ipykernel)",
   "language": "python",
   "name": "python3"
  },
  "language_info": {
   "codemirror_mode": {
    "name": "ipython",
    "version": 3
   },
   "file_extension": ".py",
   "mimetype": "text/x-python",
   "name": "python",
   "nbconvert_exporter": "python",
   "pygments_lexer": "ipython3",
   "version": "3.9.18"
  }
 },
 "nbformat": 4,
 "nbformat_minor": 5
}
