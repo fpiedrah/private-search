{
 "cells": [
  {
   "cell_type": "code",
   "execution_count": 1,
   "id": "a1f61dff-f3dc-4f65-b68d-87d336b8507b",
   "metadata": {},
   "outputs": [],
   "source": [
    "import numpy"
   ]
  },
  {
   "cell_type": "code",
   "execution_count": 12,
   "id": "b5742d05-221b-48a8-be84-0cf8929d9d58",
   "metadata": {},
   "outputs": [],
   "source": [
    "a = numpy.array(\n",
    "    [\n",
    "        0,\n",
    "        0,\n",
    "        1,\n",
    "        0,\n",
    "    ]\n",
    ")"
   ]
  },
  {
   "cell_type": "code",
   "execution_count": 27,
   "id": "6023e876-5c9c-440a-89da-8072517b6ac4",
   "metadata": {},
   "outputs": [
    {
     "data": {
      "text/plain": [
       "array([[3, 5, 8, 5],\n",
       "       [0, 8, 5, 1],\n",
       "       [8, 6, 3, 2],\n",
       "       [5, 1, 3, 7],\n",
       "       [4, 4, 7, 3],\n",
       "       [7, 5, 5, 9],\n",
       "       [7, 0, 4, 1],\n",
       "       [5, 0, 6, 7],\n",
       "       [0, 9, 0, 9],\n",
       "       [9, 1, 5, 5]])"
      ]
     },
     "execution_count": 27,
     "metadata": {},
     "output_type": "execute_result"
    }
   ],
   "source": [
    "b = numpy.random.randint(10, size=(10, 4))\n",
    "b"
   ]
  },
  {
   "cell_type": "code",
   "execution_count": 28,
   "id": "83c0eb9b-930e-4050-907f-f364310da781",
   "metadata": {},
   "outputs": [
    {
     "data": {
      "text/plain": [
       "array([8, 5, 3, 3, 7, 5, 4, 6, 0, 5])"
      ]
     },
     "execution_count": 28,
     "metadata": {},
     "output_type": "execute_result"
    }
   ],
   "source": [
    "a @ b.T"
   ]
  },
  {
   "cell_type": "code",
   "execution_count": 84,
   "id": "bd59e229-c1f4-4f7e-a17f-21fd6cd64f5f",
   "metadata": {},
   "outputs": [],
   "source": [
    "vec_1 = numpy.array([2, 2])\n",
    "vec_2 = numpy.array([3, 3])\n",
    "vec_3 = numpy.array([-4, -4])"
   ]
  },
  {
   "cell_type": "code",
   "execution_count": 85,
   "id": "58a1a153-0f6d-475f-8915-135b7a0b1bd9",
   "metadata": {},
   "outputs": [
    {
     "data": {
      "text/plain": [
       "12"
      ]
     },
     "execution_count": 85,
     "metadata": {},
     "output_type": "execute_result"
    }
   ],
   "source": [
    "vec_1 @ vec_2"
   ]
  },
  {
   "cell_type": "code",
   "execution_count": 86,
   "id": "328c1f03-6c7b-4fea-a08a-33e28a1ca4da",
   "metadata": {},
   "outputs": [
    {
     "data": {
      "text/plain": [
       "-16"
      ]
     },
     "execution_count": 86,
     "metadata": {},
     "output_type": "execute_result"
    }
   ],
   "source": [
    "vec_1 @ vec_3"
   ]
  }
 ],
 "metadata": {
  "kernelspec": {
   "display_name": "Python 3 (ipykernel)",
   "language": "python",
   "name": "python3"
  },
  "language_info": {
   "codemirror_mode": {
    "name": "ipython",
    "version": 3
   },
   "file_extension": ".py",
   "mimetype": "text/x-python",
   "name": "python",
   "nbconvert_exporter": "python",
   "pygments_lexer": "ipython3",
   "version": "3.9.18"
  }
 },
 "nbformat": 4,
 "nbformat_minor": 5
}
