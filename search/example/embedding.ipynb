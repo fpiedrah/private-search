{
 "cells": [
  {
   "cell_type": "code",
   "execution_count": null,
   "id": "0cb1c4ef-4a2c-4016-bd7c-8fd1a8390310",
   "metadata": {},
   "outputs": [],
   "source": [
    "from sentence_transformers import SentenceTransformer"
   ]
  },
  {
   "cell_type": "markdown",
   "id": "607b9983-74e1-4dfc-a56b-ce161870d777",
   "metadata": {},
   "source": [
    "### DOWNLOAD MODEL"
   ]
  },
  {
   "cell_type": "code",
   "execution_count": null,
   "id": "a345ee0c-6fab-4b03-9021-3a7f981e7abc",
   "metadata": {},
   "outputs": [],
   "source": [
    "sentence_transformer = SentenceTransformer(\"all-MiniLM-L6-v2\")"
   ]
  },
  {
   "cell_type": "markdown",
   "id": "07ecd26e-5d88-4328-9ec5-b9b19e194265",
   "metadata": {},
   "source": [
    "### EMBEDDING SIZE"
   ]
  },
  {
   "cell_type": "code",
   "execution_count": null,
   "id": "012b2aad-c87c-4998-ada1-6086783a7859",
   "metadata": {},
   "outputs": [],
   "source": [
    "embedding_1 = sentence_transformer.encode(\"dog\")\n",
    "embedding_2 = sentence_transformer.encode(\"cat\")\n",
    "\n",
    "embedding_1.shape"
   ]
  },
  {
   "cell_type": "markdown",
   "id": "53647862-be45-44ab-9763-d6b1944bf15c",
   "metadata": {},
   "source": [
    "### EMBEDDING SIMILARITY"
   ]
  },
  {
   "cell_type": "code",
   "execution_count": null,
   "id": "f334005b-0498-4eb7-855d-d6fa1dfd7fcb",
   "metadata": {},
   "outputs": [],
   "source": [
    "# DOG and CAT\n",
    "embedding_1 @ embedding_2"
   ]
  },
  {
   "cell_type": "code",
   "execution_count": null,
   "id": "d93fdd30-9e0a-48e2-a0d1-f15b345d6904",
   "metadata": {},
   "outputs": [],
   "source": [
    "embedding_3 = sentence_transformer.encode(\"helicopter\")\n",
    "\n",
    "# DOG and HELICOPTER\n",
    "embedding_1 @ embedding_3"
   ]
  },
  {
   "cell_type": "code",
   "execution_count": null,
   "id": "6b250eca-bbb0-42b3-b7ab-1c0b19b9e1d0",
   "metadata": {},
   "outputs": [],
   "source": [
    "embedding_4 = sentence_transformer.encode(\"home\")\n",
    "\n",
    "# DOG and HOME\n",
    "embedding_1 @ embedding_4"
   ]
  },
  {
   "cell_type": "code",
   "execution_count": null,
   "id": "029e5aa4-3ab7-47f0-90a0-9cfa895faec3",
   "metadata": {},
   "outputs": [],
   "source": [
    "# HELICOPTER and HOME\n",
    "embedding_3 @ embedding_4"
   ]
  },
  {
   "cell_type": "code",
   "execution_count": null,
   "id": "f6bc3847-a9d3-4740-a0de-324d45f8f6b1",
   "metadata": {},
   "outputs": [],
   "source": []
  }
 ],
 "metadata": {
  "kernelspec": {
   "display_name": "Python 3 (ipykernel)",
   "language": "python",
   "name": "python3"
  },
  "language_info": {
   "codemirror_mode": {
    "name": "ipython",
    "version": 3
   },
   "file_extension": ".py",
   "mimetype": "text/x-python",
   "name": "python",
   "nbconvert_exporter": "python",
   "pygments_lexer": "ipython3",
   "version": "3.9.18"
  }
 },
 "nbformat": 4,
 "nbformat_minor": 5
}
