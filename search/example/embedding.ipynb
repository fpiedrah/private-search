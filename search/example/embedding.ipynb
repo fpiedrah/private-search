{
 "cells": [
  {
   "cell_type": "code",
   "execution_count": 1,
   "id": "0cb1c4ef-4a2c-4016-bd7c-8fd1a8390310",
   "metadata": {},
   "outputs": [],
   "source": [
    "from sentence_transformers import SentenceTransformer"
   ]
  },
  {
   "cell_type": "code",
   "execution_count": 2,
   "id": "a345ee0c-6fab-4b03-9021-3a7f981e7abc",
   "metadata": {},
   "outputs": [],
   "source": [
    "sentence_transformer = SentenceTransformer(\"all-MiniLM-L6-v2\")"
   ]
  },
  {
   "cell_type": "code",
   "execution_count": 3,
   "id": "012b2aad-c87c-4998-ada1-6086783a7859",
   "metadata": {},
   "outputs": [
    {
     "data": {
      "text/plain": [
       "0.6606376"
      ]
     },
     "execution_count": 3,
     "metadata": {},
     "output_type": "execute_result"
    }
   ],
   "source": [
    "embedding_1 = sentence_transformer.encode(\"dog\")\n",
    "embedding_2 = sentence_transformer.encode(\"cat\")\n",
    "\n",
    "embedding_1 @ embedding_2"
   ]
  },
  {
   "cell_type": "code",
   "execution_count": 5,
   "id": "d93fdd30-9e0a-48e2-a0d1-f15b345d6904",
   "metadata": {},
   "outputs": [
    {
     "data": {
      "text/plain": [
       "0.34468144"
      ]
     },
     "execution_count": 5,
     "metadata": {},
     "output_type": "execute_result"
    }
   ],
   "source": [
    "embedding_3 = sentence_transformer.encode(\"helicopter\")\n",
    "\n",
    "embedding_1 @ embedding_3"
   ]
  },
  {
   "cell_type": "code",
   "execution_count": 12,
   "id": "6b250eca-bbb0-42b3-b7ab-1c0b19b9e1d0",
   "metadata": {},
   "outputs": [
    {
     "data": {
      "text/plain": [
       "0.40710175"
      ]
     },
     "execution_count": 12,
     "metadata": {},
     "output_type": "execute_result"
    }
   ],
   "source": [
    "embedding_4 = sentence_transformer.encode(\"home\")\n",
    "\n",
    "embedding_1 @ embedding_4"
   ]
  },
  {
   "cell_type": "code",
   "execution_count": 14,
   "id": "029e5aa4-3ab7-47f0-90a0-9cfa895faec3",
   "metadata": {},
   "outputs": [
    {
     "data": {
      "text/plain": [
       "0.28850117"
      ]
     },
     "execution_count": 14,
     "metadata": {},
     "output_type": "execute_result"
    }
   ],
   "source": [
    "embedding_3 @ embedding_4"
   ]
  }
 ],
 "metadata": {
  "kernelspec": {
   "display_name": "Python 3 (ipykernel)",
   "language": "python",
   "name": "python3"
  },
  "language_info": {
   "codemirror_mode": {
    "name": "ipython",
    "version": 3
   },
   "file_extension": ".py",
   "mimetype": "text/x-python",
   "name": "python",
   "nbconvert_exporter": "python",
   "pygments_lexer": "ipython3",
   "version": "3.9.18"
  }
 },
 "nbformat": 4,
 "nbformat_minor": 5
}
