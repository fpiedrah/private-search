{
 "cells": [
  {
   "cell_type": "code",
   "execution_count": 5,
   "id": "cf3ef9f2-47c4-49a6-bd59-ca3b663ea6fb",
   "metadata": {},
   "outputs": [],
   "source": [
    "import numpy\n",
    "import tenseal\n",
    "\n",
    "from datasets import load_dataset\n",
    "\n",
    "from search.embedding import Model\n",
    "from search.index import Index\n",
    "from search.client import Client"
   ]
  },
  {
   "cell_type": "code",
   "execution_count": 6,
   "id": "87f5f824-3436-4981-add3-0f4e0a0589e1",
   "metadata": {},
   "outputs": [],
   "source": [
    "dataset = load_dataset(\"imdb\")[\"train\"][:100][\"text\"]\n",
    "context = tenseal.context(\n",
    "    tenseal.SCHEME_TYPE.CKKS,\n",
    "    poly_modulus_degree=8192,\n",
    "    coeff_mod_bit_sizes=[60, 40, 40, 60]\n",
    ")\n",
    "context.generate_galois_keys()\n",
    "context.global_scale = 2**40\n",
    "\n",
    "model = Model(id=\"paraphrase-MiniLM-L6-v2\")\n",
    "index = Index(model=model, corpus=dataset)\n",
    "client = Client(model=model, centroids=index.centroids, context=context)"
   ]
  },
  {
   "cell_type": "code",
   "execution_count": 7,
   "id": "31a73e1e-2c98-47ed-9fb2-32e38c90bd7a",
   "metadata": {},
   "outputs": [],
   "source": [
    "text = dataset[0]\n",
    "\n",
    "query = client.query(text)\n",
    "result = client.decrypt(index.search(query))"
   ]
  },
  {
   "cell_type": "code",
   "execution_count": 8,
   "id": "a385313b-ca67-41d7-bec3-80eceeb273ce",
   "metadata": {},
   "outputs": [
    {
     "data": {
      "text/plain": [
       "[17,\n",
       " 0,\n",
       " 2,\n",
       " 4,\n",
       " 1,\n",
       " 3,\n",
       " 10,\n",
       " 15,\n",
       " 11,\n",
       " 12,\n",
       " 26,\n",
       " 14,\n",
       " 27,\n",
       " 16,\n",
       " 19,\n",
       " 20,\n",
       " 21,\n",
       " 22,\n",
       " 23,\n",
       " 24,\n",
       " 25,\n",
       " 13,\n",
       " 7,\n",
       " 8,\n",
       " 5,\n",
       " 6,\n",
       " 9,\n",
       " 18]"
      ]
     },
     "execution_count": 8,
     "metadata": {},
     "output_type": "execute_result"
    }
   ],
   "source": [
    "client.rank(result=result, text=text)"
   ]
  },
  {
   "cell_type": "code",
   "execution_count": null,
   "id": "c8abbf22-d91d-430b-abe6-d99f5c5095f4",
   "metadata": {},
   "outputs": [],
   "source": [
    "ranking = result @ model.encode(text).T\n",
    "\n",
    "ranking"
   ]
  },
  {
   "cell_type": "code",
   "execution_count": null,
   "id": "499f79ea-e2de-46c4-b861-a215070d9e3f",
   "metadata": {},
   "outputs": [],
   "source": [
    "numpy.flip(numpy.argsort(ranking)).tolist()"
   ]
  },
  {
   "cell_type": "code",
   "execution_count": null,
   "id": "f41c9762-8b98-425a-8ae7-afe3925cae5f",
   "metadata": {},
   "outputs": [],
   "source": []
  }
 ],
 "metadata": {
  "kernelspec": {
   "display_name": "Python 3 (ipykernel)",
   "language": "python",
   "name": "python3"
  },
  "language_info": {
   "codemirror_mode": {
    "name": "ipython",
    "version": 3
   },
   "file_extension": ".py",
   "mimetype": "text/x-python",
   "name": "python",
   "nbconvert_exporter": "python",
   "pygments_lexer": "ipython3",
   "version": "3.9.18"
  }
 },
 "nbformat": 4,
 "nbformat_minor": 5
}
