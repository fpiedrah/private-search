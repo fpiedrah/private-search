{
 "cells": [
  {
   "cell_type": "code",
   "execution_count": 1,
   "id": "e8e4c3ce-44d3-44a3-9fad-efc0440974b7",
   "metadata": {},
   "outputs": [
    {
     "name": "stdout",
     "output_type": "stream",
     "text": [
      "env: TOKENIZERS_PARALLELISM=false\n"
     ]
    }
   ],
   "source": [
    "%env TOKENIZERS_PARALLELISM=false"
   ]
  },
  {
   "cell_type": "code",
   "execution_count": 2,
   "id": "cf3ef9f2-47c4-49a6-bd59-ca3b663ea6fb",
   "metadata": {},
   "outputs": [],
   "source": [
    "import numpy\n",
    "import tenseal\n",
    "\n",
    "from datasets import load_dataset\n",
    "\n",
    "from search.embedding import Model\n",
    "from search.index import Index\n",
    "from search.client import Client"
   ]
  },
  {
   "cell_type": "code",
   "execution_count": 3,
   "id": "87f5f824-3436-4981-add3-0f4e0a0589e1",
   "metadata": {
    "scrolled": true
   },
   "outputs": [],
   "source": [
    "dataset = load_dataset(\"imdb\")[\"train\"][:100][\"text\"]\n",
    "context = tenseal.context(\n",
    "    tenseal.SCHEME_TYPE.CKKS,\n",
    "    poly_modulus_degree=8192,\n",
    "    coeff_mod_bit_sizes=[60, 40, 40, 60],\n",
    ")\n",
    "context.generate_galois_keys()\n",
    "context.global_scale = 2**40\n",
    "\n",
    "model = Model(id=\"paraphrase-MiniLM-L6-v2\")\n",
    "index = Index(model=model, corpus=dataset)\n",
    "client = Client(model=model, centroids=index.centroids, context=context)"
   ]
  },
  {
   "cell_type": "code",
   "execution_count": 4,
   "id": "31a73e1e-2c98-47ed-9fb2-32e38c90bd7a",
   "metadata": {},
   "outputs": [],
   "source": [
    "text = dataset[0]\n",
    "\n",
    "query = client.query(text)\n",
    "result = client.decrypt(index.search(query))"
   ]
  },
  {
   "cell_type": "code",
   "execution_count": 5,
   "id": "a385313b-ca67-41d7-bec3-80eceeb273ce",
   "metadata": {},
   "outputs": [
    {
     "data": {
      "text/plain": [
       "array([ 1.24675271e+01,  4.55197050e+00,  3.05972705e+00,  5.05467643e+00,\n",
       "        4.17172464e+00,  4.29356623e+00, -2.42126205e+03, -2.42126193e+03,\n",
       "       -2.42126210e+03, -2.42126197e+03,  1.97270662e+04, -9.62603934e-03,\n",
       "        1.36890088e-02,  5.48082256e-03, -1.67164575e-03,  9.71143563e-03,\n",
       "        1.80828172e-01,  3.73622375e-04,  9.06484401e-01,  2.11591527e-01,\n",
       "        1.13190748e+00])"
      ]
     },
     "execution_count": 5,
     "metadata": {},
     "output_type": "execute_result"
    }
   ],
   "source": [
    "client.rank(result=result, text=text)"
   ]
  }
 ],
 "metadata": {
  "kernelspec": {
   "display_name": "Python 3 (ipykernel)",
   "language": "python",
   "name": "python3"
  },
  "language_info": {
   "codemirror_mode": {
    "name": "ipython",
    "version": 3
   },
   "file_extension": ".py",
   "mimetype": "text/x-python",
   "name": "python",
   "nbconvert_exporter": "python",
   "pygments_lexer": "ipython3",
   "version": "3.9.18"
  }
 },
 "nbformat": 4,
 "nbformat_minor": 5
}
